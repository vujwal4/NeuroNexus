{
 "cells": [
  {
   "cell_type": "code",
   "execution_count": 1,
   "id": "b54cb5c9-24a3-4ba7-ba4f-6172f6a4c63c",
   "metadata": {},
   "outputs": [
    {
     "name": "stdout",
     "output_type": "stream",
     "text": [
      "Classification Report:\n",
      "               precision    recall  f1-score   support\n",
      "\n",
      "           0       1.00      0.96      0.98     56864\n",
      "           1       0.04      0.92      0.08        98\n",
      "\n",
      "    accuracy                           0.96     56962\n",
      "   macro avg       0.52      0.94      0.53     56962\n",
      "weighted avg       1.00      0.96      0.98     56962\n",
      "\n",
      "Confusion Matrix:\n",
      " [[54827  2037]\n",
      " [    8    90]]\n"
     ]
    }
   ],
   "source": [
    "import pandas as pd\n",
    "from sklearn.model_selection import train_test_split\n",
    "from sklearn.preprocessing import StandardScaler\n",
    "from sklearn.utils import resample\n",
    "from sklearn.ensemble import RandomForestClassifier\n",
    "from sklearn.metrics import classification_report, confusion_matrix\n",
    "\n",
    "# Load the dataset\n",
    "df = pd.read_csv(\"creditcard.csv\")\n",
    "\n",
    "# Separate features and target\n",
    "X = df.drop(\"Class\", axis=1)\n",
    "y = df[\"Class\"]\n",
    "\n",
    "# Normalize 'Time' and 'Amount'\n",
    "scaler = StandardScaler()\n",
    "X[[\"Time\", \"Amount\"]] = scaler.fit_transform(X[[\"Time\", \"Amount\"]])\n",
    "\n",
    "# Split into train and test sets (stratified)\n",
    "X_train, X_test, y_train, y_test = train_test_split(\n",
    "    X, y, test_size=0.2, stratify=y, random_state=42\n",
    ")\n",
    "\n",
    "# Combine for resampling\n",
    "train_data = pd.concat([X_train, y_train], axis=1)\n",
    "majority = train_data[train_data.Class == 0]\n",
    "minority = train_data[train_data.Class == 1]\n",
    "\n",
    "# Downsample majority class\n",
    "majority_downsampled = resample(\n",
    "    majority, replace=False, n_samples=len(minority), random_state=42\n",
    ")\n",
    "\n",
    "# Combine downsampled majority with minority\n",
    "train_downsampled = pd.concat([majority_downsampled, minority])\n",
    "\n",
    "# Split features and target\n",
    "X_train_down = train_downsampled.drop(\"Class\", axis=1)\n",
    "y_train_down = train_downsampled[\"Class\"]\n",
    "\n",
    "# Train Random Forest\n",
    "clf = RandomForestClassifier(n_estimators=100, random_state=42)\n",
    "clf.fit(X_train_down, y_train_down)\n",
    "\n",
    "# Predict on test set\n",
    "y_pred = clf.predict(X_test)\n",
    "\n",
    "# Evaluate\n",
    "print(\"Classification Report:\\n\", classification_report(y_test, y_pred))\n",
    "print(\"Confusion Matrix:\\n\", confusion_matrix(y_test, y_pred))\n"
   ]
  }
 ],
 "metadata": {
  "kernelspec": {
   "display_name": "Python 3 (ipykernel)",
   "language": "python",
   "name": "python3"
  },
  "language_info": {
   "codemirror_mode": {
    "name": "ipython",
    "version": 3
   },
   "file_extension": ".py",
   "mimetype": "text/x-python",
   "name": "python",
   "nbconvert_exporter": "python",
   "pygments_lexer": "ipython3",
   "version": "3.11.3"
  }
 },
 "nbformat": 4,
 "nbformat_minor": 5
}
